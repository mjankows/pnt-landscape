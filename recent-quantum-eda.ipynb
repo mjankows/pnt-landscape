{
 "cells": [
  {
   "cell_type": "code",
   "execution_count": 2,
   "id": "5a4f40d2",
   "metadata": {},
   "outputs": [
    {
     "name": "stderr",
     "output_type": "stream",
     "text": [
      "c:\\Users\\matth\\miniconda3\\envs\\embeddings\\Lib\\site-packages\\tqdm\\auto.py:21: TqdmWarning: IProgress not found. Please update jupyter and ipywidgets. See https://ipywidgets.readthedocs.io/en/stable/user_install.html\n",
      "  from .autonotebook import tqdm as notebook_tqdm\n"
     ]
    }
   ],
   "source": [
    "import pandas as pd\n",
    "import numpy as np\n",
    "from sentence_transformers import SentenceTransformer\n",
    "import os\n",
    "import pickle\n",
    "import torch\n",
    "from collections import Counter\n",
    "from dynamic_batch_size import dynamic_batch_size"
   ]
  },
  {
   "cell_type": "code",
   "execution_count": 3,
   "id": "03efdb0d",
   "metadata": {},
   "outputs": [],
   "source": [
    "df = pd.read_csv('works-2023-onward-quantum-10-citations-article-open-access.csv')"
   ]
  },
  {
   "cell_type": "code",
   "execution_count": 4,
   "id": "d63024a6",
   "metadata": {},
   "outputs": [],
   "source": [
    "df_filtered = df.dropna(subset='abstract')"
   ]
  },
  {
   "cell_type": "code",
   "execution_count": 5,
   "id": "058d0f59",
   "metadata": {},
   "outputs": [
    {
     "data": {
      "text/plain": [
       "(1141, 179)"
      ]
     },
     "execution_count": 5,
     "metadata": {},
     "output_type": "execute_result"
    }
   ],
   "source": [
    "df_filtered.shape"
   ]
  },
  {
   "cell_type": "code",
   "execution_count": 7,
   "id": "0d5785c1",
   "metadata": {},
   "outputs": [
    {
     "name": "stderr",
     "output_type": "stream",
     "text": [
      "Loading checkpoint shards: 100%|██████████| 3/3 [00:04<00:00,  1.57s/it]\n"
     ]
    },
    {
     "data": {
      "text/plain": [
       "SentenceTransformer(\n",
       "  (0): Transformer({'max_seq_length': 4096, 'do_lower_case': False}) with Transformer model: MistralModel \n",
       "  (1): Pooling({'word_embedding_dimension': 4096, 'pooling_mode_cls_token': False, 'pooling_mode_mean_tokens': False, 'pooling_mode_max_tokens': False, 'pooling_mode_mean_sqrt_len_tokens': False, 'pooling_mode_weightedmean_tokens': False, 'pooling_mode_lasttoken': True, 'include_prompt': True})\n",
       "  (2): Normalize()\n",
       ")"
      ]
     },
     "execution_count": 7,
     "metadata": {},
     "output_type": "execute_result"
    }
   ],
   "source": [
    "mistral = SentenceTransformer(\"zeta-alpha-ai/Zeta-Alpha-E5-Mistral\",trust_remote_code=True)\n",
    "mistral.to(torch.float16)"
   ]
  },
  {
   "cell_type": "code",
   "execution_count": 9,
   "id": "3eedfe57",
   "metadata": {},
   "outputs": [
    {
     "name": "stdout",
     "output_type": "stream",
     "text": [
      "0 38\n",
      "38 38\n",
      "76 41\n",
      "117 42\n",
      "159 43\n",
      "202 41\n",
      "243 39\n",
      "282 39\n",
      "321 39\n",
      "360 41\n",
      "401 36\n",
      "437 37\n",
      "474 42\n",
      "516 40\n",
      "556 47\n",
      "603 46\n",
      "649 41\n",
      "690 40\n",
      "730 38\n",
      "768 42\n",
      "810 38\n",
      "848 40\n",
      "888 41\n",
      "929 39\n",
      "968 37\n",
      "1005 35\n",
      "1040 31\n",
      "1071 29\n",
      "1100 24\n",
      "1124 16\n",
      "1140 1\n"
     ]
    }
   ],
   "source": [
    "start = 0\n",
    "while start < df_filtered.shape[0]:\n",
    "    batch_size = dynamic_batch_size(df_filtered['abstract'].values[start:],\n",
    "                                    50000,\n",
    "                                    1/3)\n",
    "    print(start,batch_size)\n",
    "    temp = mistral.encode(df_filtered['abstract'].values[start:start+batch_size],\n",
    "                          normalize_embeddings=True,)\n",
    "    with open(f'vec/{start}-{start+batch_size}.pkl','wb') as f:\n",
    "        pickle.dump(temp,f)\n",
    "    start += batch_size"
   ]
  }
 ],
 "metadata": {
  "kernelspec": {
   "display_name": "embeddings",
   "language": "python",
   "name": "python3"
  },
  "language_info": {
   "codemirror_mode": {
    "name": "ipython",
    "version": 3
   },
   "file_extension": ".py",
   "mimetype": "text/x-python",
   "name": "python",
   "nbconvert_exporter": "python",
   "pygments_lexer": "ipython3",
   "version": "3.13.2"
  }
 },
 "nbformat": 4,
 "nbformat_minor": 5
}
