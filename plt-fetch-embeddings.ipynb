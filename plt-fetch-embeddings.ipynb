{
 "cells": [
  {
   "cell_type": "code",
   "execution_count": 1,
   "id": "a347b2eb",
   "metadata": {},
   "outputs": [
    {
     "name": "stderr",
     "output_type": "stream",
     "text": [
      "c:\\Users\\matth\\miniconda3\\envs\\embeddings\\Lib\\site-packages\\tqdm\\auto.py:21: TqdmWarning: IProgress not found. Please update jupyter and ipywidgets. See https://ipywidgets.readthedocs.io/en/stable/user_install.html\n",
      "  from .autonotebook import tqdm as notebook_tqdm\n"
     ]
    }
   ],
   "source": [
    "# This embedding pipeline was run in the \"embeddings\" conda environment.\n",
    "import pickle\n",
    "import pandas as pd\n",
    "import torch\n",
    "import os\n",
    "import pyalex\n",
    "import json\n",
    "from sentence_transformers import SentenceTransformer\n",
    "from transformers import AutoModel\n",
    "from collections import Counter\n",
    "import matplotlib.pyplot as plt\n",
    "import numpy as np\n",
    "from dynamic_batch_size import dynamic_batch_size"
   ]
  },
  {
   "cell_type": "code",
   "execution_count": 3,
   "id": "c6fbb13a",
   "metadata": {},
   "outputs": [],
   "source": [
    "with open('topics.json') as f:\n",
    "    topics = json.load(f)"
   ]
  },
  {
   "cell_type": "code",
   "execution_count": 8,
   "id": "5210a1fb",
   "metadata": {},
   "outputs": [],
   "source": [
    "topic_names = [it['display_name'] for it in topics['results']]"
   ]
  },
  {
   "cell_type": "code",
   "execution_count": 11,
   "id": "b89303d9",
   "metadata": {},
   "outputs": [
    {
     "data": {
      "text/plain": [
       "25"
      ]
     },
     "execution_count": 11,
     "metadata": {},
     "output_type": "execute_result"
    }
   ],
   "source": [
    "len(topics['results'])"
   ]
  },
  {
   "cell_type": "code",
   "execution_count": 15,
   "id": "1680a2fa",
   "metadata": {},
   "outputs": [
    {
     "data": {
      "text/plain": [
       "{'id': 'https://openalex.org/T11881',\n",
       " 'display_name': 'Crystallization and Solubility Studies',\n",
       " 'description': 'This cluster of papers focuses on the crystallization processes and control, including topics such as nucleation, solubility, polymorphism, ultrasound-assisted crystallization, process analytical technology, crystal growth, pharmaceutical crystallization, continuous crystallization, and crystal engineering.',\n",
       " 'keywords': ['Crystallization',\n",
       "  'Nucleation',\n",
       "  'Solubility',\n",
       "  'Polymorphism',\n",
       "  'Ultrasound-Assisted Crystallization',\n",
       "  'Process Analytical Technology',\n",
       "  'Crystal Growth',\n",
       "  'Pharmaceutical Crystallization',\n",
       "  'Continuous Crystallization',\n",
       "  'Crystal Engineering'],\n",
       " 'ids': {'openalex': 'https://openalex.org/T11881',\n",
       "  'wikipedia': 'https://en.wikipedia.org/wiki/Crystallization'},\n",
       " 'subfield': {'id': 'https://openalex.org/subfields/2505',\n",
       "  'display_name': 'Materials Chemistry'},\n",
       " 'field': {'id': 'https://openalex.org/fields/25',\n",
       "  'display_name': 'Materials Science'},\n",
       " 'domain': {'id': 'https://openalex.org/domains/3',\n",
       "  'display_name': 'Physical Sciences'},\n",
       " 'siblings': [{'id': 'https://openalex.org/T10275',\n",
       "   'display_name': '2D Materials and Applications'},\n",
       "  {'id': 'https://openalex.org/T13889',\n",
       "   'display_name': 'Advanced Materials and Semiconductor Technologies'},\n",
       "  {'id': 'https://openalex.org/T12302',\n",
       "   'display_name': 'Advanced Nanomaterials in Catalysis'},\n",
       "  {'id': 'https://openalex.org/T10440',\n",
       "   'display_name': 'Advanced Thermoelectric Materials and Devices'},\n",
       "  {'id': 'https://openalex.org/T10311',\n",
       "   'display_name': 'Advancements in Solid Oxide Fuel Cells'},\n",
       "  {'id': 'https://openalex.org/T12340',\n",
       "   'display_name': 'Anodic Oxide Films and Nanostructures'},\n",
       "  {'id': 'https://openalex.org/T11471',\n",
       "   'display_name': 'Block Copolymer Self-Assembly'},\n",
       "  {'id': 'https://openalex.org/T11341',\n",
       "   'display_name': 'Boron and Carbon Nanomaterials Research'},\n",
       "  {'id': 'https://openalex.org/T11342',\n",
       "   'display_name': 'Carbon and Quantum Dots Applications'},\n",
       "  {'id': 'https://openalex.org/T10074',\n",
       "   'display_name': 'Carbon Nanotubes in Composites'},\n",
       "  {'id': 'https://openalex.org/T10192',\n",
       "   'display_name': 'Catalytic Processes in Materials Science'},\n",
       "  {'id': 'https://openalex.org/T13104',\n",
       "   'display_name': 'Chemical and Physical Properties of Materials'},\n",
       "  {'id': 'https://openalex.org/T11907',\n",
       "   'display_name': 'Copper-based nanomaterials and applications'},\n",
       "  {'id': 'https://openalex.org/T10310',\n",
       "   'display_name': 'Corrosion Behavior and Inhibition'},\n",
       "  {'id': 'https://openalex.org/T12038',\n",
       "   'display_name': 'Covalent Organic Framework Applications'},\n",
       "  {'id': 'https://openalex.org/T10478',\n",
       "   'display_name': 'Diamond and Carbon-based Materials Research'},\n",
       "  {'id': 'https://openalex.org/T13249',\n",
       "   'display_name': 'Dielectric properties of ceramics'},\n",
       "  {'id': 'https://openalex.org/T12588',\n",
       "   'display_name': 'Electronic and Structural Properties of Oxides'},\n",
       "  {'id': 'https://openalex.org/T11162',\n",
       "   'display_name': 'Enzyme Structure and Function'},\n",
       "  {'id': 'https://openalex.org/T10107',\n",
       "   'display_name': 'Ferroelectric and Piezoelectric Materials'},\n",
       "  {'id': 'https://openalex.org/T10592',\n",
       "   'display_name': 'Fusion materials and technologies'},\n",
       "  {'id': 'https://openalex.org/T10083',\n",
       "   'display_name': 'Graphene research and applications'},\n",
       "  {'id': 'https://openalex.org/T13465',\n",
       "   'display_name': 'Graphite, nuclear technology, radiation studies'},\n",
       "  {'id': 'https://openalex.org/T10511',\n",
       "   'display_name': 'High voltage insulation and dielectric phenomena'},\n",
       "  {'id': 'https://openalex.org/T11699',\n",
       "   'display_name': 'High-Velocity Impact and Material Behavior'},\n",
       "  {'id': 'https://openalex.org/T10811',\n",
       "   'display_name': 'Hydrogen Storage and Materials'},\n",
       "  {'id': 'https://openalex.org/T11279',\n",
       "   'display_name': 'Lanthanide and Transition Metal Complexes'},\n",
       "  {'id': 'https://openalex.org/T11940',\n",
       "   'display_name': 'Layered Double Hydroxides Synthesis and Applications'},\n",
       "  {'id': 'https://openalex.org/T11240',\n",
       "   'display_name': 'Luminescence and Fluorescent Materials'},\n",
       "  {'id': 'https://openalex.org/T10097',\n",
       "   'display_name': 'Luminescence Properties of Advanced Materials'},\n",
       "  {'id': 'https://openalex.org/T11948',\n",
       "   'display_name': 'Machine Learning in Materials Science'},\n",
       "  {'id': 'https://openalex.org/T13039',\n",
       "   'display_name': 'Magnesium Oxide Properties and Applications'},\n",
       "  {'id': 'https://openalex.org/T10922',\n",
       "   'display_name': 'Magnetic Properties and Synthesis of Ferrites'},\n",
       "  {'id': 'https://openalex.org/T10474',\n",
       "   'display_name': 'Material Dynamics and Properties'},\n",
       "  {'id': 'https://openalex.org/T14076',\n",
       "   'display_name': 'Material Properties and Failure Mechanisms'},\n",
       "  {'id': 'https://openalex.org/T12938',\n",
       "   'display_name': 'Material Selection and Properties'},\n",
       "  {'id': 'https://openalex.org/T10735',\n",
       "   'display_name': 'Mesoporous Materials and Catalysis'},\n",
       "  {'id': 'https://openalex.org/T12427',\n",
       "   'display_name': 'Metal Alloys Wear and Properties'},\n",
       "  {'id': 'https://openalex.org/T14184',\n",
       "   'display_name': 'Metallurgy and Material Science'},\n",
       "  {'id': 'https://openalex.org/T10204',\n",
       "   'display_name': 'Microstructure and mechanical properties'},\n",
       "  {'id': 'https://openalex.org/T12046',\n",
       "   'display_name': 'MXene and MAX Phase Materials'},\n",
       "  {'id': 'https://openalex.org/T12149',\n",
       "   'display_name': 'Nanocluster Synthesis and Applications'},\n",
       "  {'id': 'https://openalex.org/T10079',\n",
       "   'display_name': 'Nanoparticles: synthesis and applications'},\n",
       "  {'id': 'https://openalex.org/T13463',\n",
       "   'display_name': 'Nanoporous metals and alloys'},\n",
       "  {'id': 'https://openalex.org/T11646',\n",
       "   'display_name': 'Nonlocal and gradient elasticity in micro/nano structures'},\n",
       "  {'id': 'https://openalex.org/T11242',\n",
       "   'display_name': 'Nuclear Materials and Properties'},\n",
       "  {'id': 'https://openalex.org/T12506',\n",
       "   'display_name': 'Nuclear materials and radiation effects'},\n",
       "  {'id': 'https://openalex.org/T11315',\n",
       "   'display_name': 'Phase-change materials and chalcogenides'},\n",
       "  {'id': 'https://openalex.org/T11708',\n",
       "   'display_name': 'Photochromic and Fluorescence Chemistry'},\n",
       "  {'id': 'https://openalex.org/T11915',\n",
       "   'display_name': 'Pickering emulsions and particle stabilization'},\n",
       "  {'id': 'https://openalex.org/T11286',\n",
       "   'display_name': 'Polyoxometalates: Synthesis and Applications'},\n",
       "  {'id': 'https://openalex.org/T10903',\n",
       "   'display_name': 'Porphyrin and Phthalocyanine Chemistry'},\n",
       "  {'id': 'https://openalex.org/T10321',\n",
       "   'display_name': 'Quantum Dots Synthesis And Properties'},\n",
       "  {'id': 'https://openalex.org/T11887',\n",
       "   'display_name': 'Quasicrystal Structures and Properties'},\n",
       "  {'id': 'https://openalex.org/T12299',\n",
       "   'display_name': 'Radiation Shielding Materials Analysis'},\n",
       "  {'id': 'https://openalex.org/T10865',\n",
       "   'display_name': 'Shape Memory Alloy Transformations'},\n",
       "  {'id': 'https://openalex.org/T11169',\n",
       "   'display_name': 'Silicon Nanostructures and Photoluminescence'},\n",
       "  {'id': 'https://openalex.org/T12420',\n",
       "   'display_name': 'Silicone and Siloxane Chemistry'},\n",
       "  {'id': 'https://openalex.org/T11878',\n",
       "   'display_name': 'Solid-state spectroscopy and crystallography'},\n",
       "  {'id': 'https://openalex.org/T11087',\n",
       "   'display_name': 'Solidification and crystal growth phenomena'},\n",
       "  {'id': 'https://openalex.org/T13159',\n",
       "   'display_name': 'Structural mechanics and materials'},\n",
       "  {'id': 'https://openalex.org/T12358',\n",
       "   'display_name': 'Thermal and Kinetic Analysis'},\n",
       "  {'id': 'https://openalex.org/T12875',\n",
       "   'display_name': 'Thermal Expansion and Ionic Conductivity'},\n",
       "  {'id': 'https://openalex.org/T11277',\n",
       "   'display_name': 'Thermal properties of materials'},\n",
       "  {'id': 'https://openalex.org/T11442',\n",
       "   'display_name': 'Titanium Alloys Microstructure and Properties'},\n",
       "  {'id': 'https://openalex.org/T11842',\n",
       "   'display_name': 'Ultrasound and Cavitation Phenomena'},\n",
       "  {'id': 'https://openalex.org/T12613',\n",
       "   'display_name': 'X-ray Diffraction in Crystallography'},\n",
       "  {'id': 'https://openalex.org/T10090',\n",
       "   'display_name': 'ZnO doping and properties'}],\n",
       " 'works_count': 974822,\n",
       " 'cited_by_count': 779223,\n",
       " 'updated_date': '2025-04-07T05:22:48.883430',\n",
       " 'created_date': '2024-01-23'}"
      ]
     },
     "execution_count": 15,
     "metadata": {},
     "output_type": "execute_result"
    }
   ],
   "source": [
    "topics['results'][0]"
   ]
  },
  {
   "cell_type": "code",
   "execution_count": 18,
   "id": "6e0bbb67",
   "metadata": {},
   "outputs": [],
   "source": [
    "df = pd.DataFrame(topics['results'])"
   ]
  },
  {
   "cell_type": "code",
   "execution_count": 19,
   "id": "a7164e1c",
   "metadata": {},
   "outputs": [
    {
     "data": {
      "text/plain": [
       "Index(['id', 'display_name', 'description', 'keywords', 'ids', 'subfield',\n",
       "       'field', 'domain', 'siblings', 'works_count', 'cited_by_count',\n",
       "       'updated_date', 'created_date'],\n",
       "      dtype='object')"
      ]
     },
     "execution_count": 19,
     "metadata": {},
     "output_type": "execute_result"
    }
   ],
   "source": [
    "df.keys()"
   ]
  },
  {
   "cell_type": "code",
   "execution_count": 28,
   "id": "975b8912",
   "metadata": {},
   "outputs": [
    {
     "data": {
      "text/plain": [
       "[{'id': 'https://openalex.org/T10275',\n",
       "  'display_name': '2D Materials and Applications'},\n",
       " {'id': 'https://openalex.org/T13889',\n",
       "  'display_name': 'Advanced Materials and Semiconductor Technologies'},\n",
       " {'id': 'https://openalex.org/T12302',\n",
       "  'display_name': 'Advanced Nanomaterials in Catalysis'},\n",
       " {'id': 'https://openalex.org/T10440',\n",
       "  'display_name': 'Advanced Thermoelectric Materials and Devices'},\n",
       " {'id': 'https://openalex.org/T10311',\n",
       "  'display_name': 'Advancements in Solid Oxide Fuel Cells'},\n",
       " {'id': 'https://openalex.org/T12340',\n",
       "  'display_name': 'Anodic Oxide Films and Nanostructures'},\n",
       " {'id': 'https://openalex.org/T11471',\n",
       "  'display_name': 'Block Copolymer Self-Assembly'},\n",
       " {'id': 'https://openalex.org/T11341',\n",
       "  'display_name': 'Boron and Carbon Nanomaterials Research'},\n",
       " {'id': 'https://openalex.org/T11342',\n",
       "  'display_name': 'Carbon and Quantum Dots Applications'},\n",
       " {'id': 'https://openalex.org/T10074',\n",
       "  'display_name': 'Carbon Nanotubes in Composites'},\n",
       " {'id': 'https://openalex.org/T10192',\n",
       "  'display_name': 'Catalytic Processes in Materials Science'},\n",
       " {'id': 'https://openalex.org/T13104',\n",
       "  'display_name': 'Chemical and Physical Properties of Materials'},\n",
       " {'id': 'https://openalex.org/T11907',\n",
       "  'display_name': 'Copper-based nanomaterials and applications'},\n",
       " {'id': 'https://openalex.org/T10310',\n",
       "  'display_name': 'Corrosion Behavior and Inhibition'},\n",
       " {'id': 'https://openalex.org/T12038',\n",
       "  'display_name': 'Covalent Organic Framework Applications'},\n",
       " {'id': 'https://openalex.org/T10478',\n",
       "  'display_name': 'Diamond and Carbon-based Materials Research'},\n",
       " {'id': 'https://openalex.org/T13249',\n",
       "  'display_name': 'Dielectric properties of ceramics'},\n",
       " {'id': 'https://openalex.org/T12588',\n",
       "  'display_name': 'Electronic and Structural Properties of Oxides'},\n",
       " {'id': 'https://openalex.org/T11162',\n",
       "  'display_name': 'Enzyme Structure and Function'},\n",
       " {'id': 'https://openalex.org/T10107',\n",
       "  'display_name': 'Ferroelectric and Piezoelectric Materials'},\n",
       " {'id': 'https://openalex.org/T10592',\n",
       "  'display_name': 'Fusion materials and technologies'},\n",
       " {'id': 'https://openalex.org/T10083',\n",
       "  'display_name': 'Graphene research and applications'},\n",
       " {'id': 'https://openalex.org/T13465',\n",
       "  'display_name': 'Graphite, nuclear technology, radiation studies'},\n",
       " {'id': 'https://openalex.org/T10511',\n",
       "  'display_name': 'High voltage insulation and dielectric phenomena'},\n",
       " {'id': 'https://openalex.org/T11699',\n",
       "  'display_name': 'High-Velocity Impact and Material Behavior'},\n",
       " {'id': 'https://openalex.org/T10811',\n",
       "  'display_name': 'Hydrogen Storage and Materials'},\n",
       " {'id': 'https://openalex.org/T11279',\n",
       "  'display_name': 'Lanthanide and Transition Metal Complexes'},\n",
       " {'id': 'https://openalex.org/T11940',\n",
       "  'display_name': 'Layered Double Hydroxides Synthesis and Applications'},\n",
       " {'id': 'https://openalex.org/T11240',\n",
       "  'display_name': 'Luminescence and Fluorescent Materials'},\n",
       " {'id': 'https://openalex.org/T10097',\n",
       "  'display_name': 'Luminescence Properties of Advanced Materials'},\n",
       " {'id': 'https://openalex.org/T11948',\n",
       "  'display_name': 'Machine Learning in Materials Science'},\n",
       " {'id': 'https://openalex.org/T13039',\n",
       "  'display_name': 'Magnesium Oxide Properties and Applications'},\n",
       " {'id': 'https://openalex.org/T10922',\n",
       "  'display_name': 'Magnetic Properties and Synthesis of Ferrites'},\n",
       " {'id': 'https://openalex.org/T10474',\n",
       "  'display_name': 'Material Dynamics and Properties'},\n",
       " {'id': 'https://openalex.org/T14076',\n",
       "  'display_name': 'Material Properties and Failure Mechanisms'},\n",
       " {'id': 'https://openalex.org/T12938',\n",
       "  'display_name': 'Material Selection and Properties'},\n",
       " {'id': 'https://openalex.org/T10735',\n",
       "  'display_name': 'Mesoporous Materials and Catalysis'},\n",
       " {'id': 'https://openalex.org/T12427',\n",
       "  'display_name': 'Metal Alloys Wear and Properties'},\n",
       " {'id': 'https://openalex.org/T14184',\n",
       "  'display_name': 'Metallurgy and Material Science'},\n",
       " {'id': 'https://openalex.org/T10204',\n",
       "  'display_name': 'Microstructure and mechanical properties'},\n",
       " {'id': 'https://openalex.org/T12046',\n",
       "  'display_name': 'MXene and MAX Phase Materials'},\n",
       " {'id': 'https://openalex.org/T12149',\n",
       "  'display_name': 'Nanocluster Synthesis and Applications'},\n",
       " {'id': 'https://openalex.org/T10079',\n",
       "  'display_name': 'Nanoparticles: synthesis and applications'},\n",
       " {'id': 'https://openalex.org/T13463',\n",
       "  'display_name': 'Nanoporous metals and alloys'},\n",
       " {'id': 'https://openalex.org/T11646',\n",
       "  'display_name': 'Nonlocal and gradient elasticity in micro/nano structures'},\n",
       " {'id': 'https://openalex.org/T11242',\n",
       "  'display_name': 'Nuclear Materials and Properties'},\n",
       " {'id': 'https://openalex.org/T12506',\n",
       "  'display_name': 'Nuclear materials and radiation effects'},\n",
       " {'id': 'https://openalex.org/T11315',\n",
       "  'display_name': 'Phase-change materials and chalcogenides'},\n",
       " {'id': 'https://openalex.org/T11708',\n",
       "  'display_name': 'Photochromic and Fluorescence Chemistry'},\n",
       " {'id': 'https://openalex.org/T11915',\n",
       "  'display_name': 'Pickering emulsions and particle stabilization'},\n",
       " {'id': 'https://openalex.org/T11286',\n",
       "  'display_name': 'Polyoxometalates: Synthesis and Applications'},\n",
       " {'id': 'https://openalex.org/T10903',\n",
       "  'display_name': 'Porphyrin and Phthalocyanine Chemistry'},\n",
       " {'id': 'https://openalex.org/T10321',\n",
       "  'display_name': 'Quantum Dots Synthesis And Properties'},\n",
       " {'id': 'https://openalex.org/T11887',\n",
       "  'display_name': 'Quasicrystal Structures and Properties'},\n",
       " {'id': 'https://openalex.org/T12299',\n",
       "  'display_name': 'Radiation Shielding Materials Analysis'},\n",
       " {'id': 'https://openalex.org/T10865',\n",
       "  'display_name': 'Shape Memory Alloy Transformations'},\n",
       " {'id': 'https://openalex.org/T11169',\n",
       "  'display_name': 'Silicon Nanostructures and Photoluminescence'},\n",
       " {'id': 'https://openalex.org/T12420',\n",
       "  'display_name': 'Silicone and Siloxane Chemistry'},\n",
       " {'id': 'https://openalex.org/T11878',\n",
       "  'display_name': 'Solid-state spectroscopy and crystallography'},\n",
       " {'id': 'https://openalex.org/T11087',\n",
       "  'display_name': 'Solidification and crystal growth phenomena'},\n",
       " {'id': 'https://openalex.org/T13159',\n",
       "  'display_name': 'Structural mechanics and materials'},\n",
       " {'id': 'https://openalex.org/T12358',\n",
       "  'display_name': 'Thermal and Kinetic Analysis'},\n",
       " {'id': 'https://openalex.org/T12875',\n",
       "  'display_name': 'Thermal Expansion and Ionic Conductivity'},\n",
       " {'id': 'https://openalex.org/T11277',\n",
       "  'display_name': 'Thermal properties of materials'},\n",
       " {'id': 'https://openalex.org/T11442',\n",
       "  'display_name': 'Titanium Alloys Microstructure and Properties'},\n",
       " {'id': 'https://openalex.org/T11842',\n",
       "  'display_name': 'Ultrasound and Cavitation Phenomena'},\n",
       " {'id': 'https://openalex.org/T12613',\n",
       "  'display_name': 'X-ray Diffraction in Crystallography'},\n",
       " {'id': 'https://openalex.org/T10090',\n",
       "  'display_name': 'ZnO doping and properties'}]"
      ]
     },
     "execution_count": 28,
     "metadata": {},
     "output_type": "execute_result"
    }
   ],
   "source": [
    "df['siblings'].values[0]"
   ]
  },
  {
   "cell_type": "code",
   "execution_count": 37,
   "id": "382b8b66",
   "metadata": {},
   "outputs": [
    {
     "name": "stdout",
     "output_type": "stream",
     "text": [
      "403 Client Error: FORBIDDEN for url: https://api.openalex.org/topics?per-page=200&page=51\n"
     ]
    }
   ],
   "source": [
    "res = []\n",
    "page=1\n",
    "while True:\n",
    "    try:\n",
    "        res.append(pyalex.Topics().get(page=page,per_page=200))\n",
    "        page += 1\n",
    "    except Exception as e:\n",
    "        print(e)\n",
    "        break"
   ]
  },
  {
   "cell_type": "code",
   "execution_count": 36,
   "id": "c09a7c45",
   "metadata": {},
   "outputs": [
    {
     "data": {
      "text/plain": [
       "50"
      ]
     },
     "execution_count": 36,
     "metadata": {},
     "output_type": "execute_result"
    }
   ],
   "source": [
    "len(res)"
   ]
  },
  {
   "cell_type": "code",
   "execution_count": null,
   "id": "b3eec3ed",
   "metadata": {},
   "outputs": [],
   "source": []
  }
 ],
 "metadata": {
  "kernelspec": {
   "display_name": "embeddings",
   "language": "python",
   "name": "python3"
  },
  "language_info": {
   "codemirror_mode": {
    "name": "ipython",
    "version": 3
   },
   "file_extension": ".py",
   "mimetype": "text/x-python",
   "name": "python",
   "nbconvert_exporter": "python",
   "pygments_lexer": "ipython3",
   "version": "3.13.2"
  }
 },
 "nbformat": 4,
 "nbformat_minor": 5
}
