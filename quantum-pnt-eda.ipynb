{
 "cells": [
  {
   "cell_type": "code",
   "execution_count": 1,
   "id": "64152c88",
   "metadata": {},
   "outputs": [
    {
     "name": "stderr",
     "output_type": "stream",
     "text": [
      "c:\\Users\\matth\\miniconda3\\envs\\embeddings\\Lib\\site-packages\\tqdm\\auto.py:21: TqdmWarning: IProgress not found. Please update jupyter and ipywidgets. See https://ipywidgets.readthedocs.io/en/stable/user_install.html\n",
      "  from .autonotebook import tqdm as notebook_tqdm\n"
     ]
    }
   ],
   "source": [
    "import pandas as pd\n",
    "import numpy as np\n",
    "from sentence_transformers import SentenceTransformer\n",
    "import os\n",
    "import pickle\n",
    "import torch\n",
    "from collections import Counter"
   ]
  },
  {
   "cell_type": "code",
   "execution_count": 2,
   "id": "24a55df0",
   "metadata": {},
   "outputs": [],
   "source": [
    "df = pd.read_csv('works-2024.csv')"
   ]
  },
  {
   "cell_type": "code",
   "execution_count": 3,
   "id": "064a246a",
   "metadata": {},
   "outputs": [
    {
     "data": {
      "text/plain": [
       "Index(['id', 'doi', 'title', 'display_name', 'relevance_score',\n",
       "       'publication_year', 'publication_date', 'language', 'type',\n",
       "       'type_crossref',\n",
       "       ...\n",
       "       'locations.source.type', 'locations.source',\n",
       "       'sustainable_development_goals.id',\n",
       "       'sustainable_development_goals.score',\n",
       "       'sustainable_development_goals.display_name', 'grants.funder',\n",
       "       'grants.funder_display_name', 'grants.award_id', 'counts_by_year.year',\n",
       "       'counts_by_year.cited_by_count'],\n",
       "      dtype='object', length=176)"
      ]
     },
     "execution_count": 3,
     "metadata": {},
     "output_type": "execute_result"
    }
   ],
   "source": [
    "df.keys()"
   ]
  },
  {
   "cell_type": "code",
   "execution_count": 4,
   "id": "21e64c6d",
   "metadata": {},
   "outputs": [],
   "source": [
    "df = df.sort_values(by=['cited_by_count'])"
   ]
  },
  {
   "cell_type": "code",
   "execution_count": 5,
   "id": "1acf7c63",
   "metadata": {},
   "outputs": [],
   "source": [
    "df_filtered = df.dropna(subset='abstract')"
   ]
  },
  {
   "cell_type": "code",
   "execution_count": 6,
   "id": "3ce88667",
   "metadata": {},
   "outputs": [
    {
     "name": "stderr",
     "output_type": "stream",
     "text": [
      "Loading checkpoint shards: 100%|██████████| 3/3 [00:03<00:00,  1.01s/it]\n"
     ]
    },
    {
     "data": {
      "text/plain": [
       "SentenceTransformer(\n",
       "  (0): Transformer({'max_seq_length': 4096, 'do_lower_case': False}) with Transformer model: MistralModel \n",
       "  (1): Pooling({'word_embedding_dimension': 4096, 'pooling_mode_cls_token': False, 'pooling_mode_mean_tokens': False, 'pooling_mode_max_tokens': False, 'pooling_mode_mean_sqrt_len_tokens': False, 'pooling_mode_weightedmean_tokens': False, 'pooling_mode_lasttoken': True, 'include_prompt': True})\n",
       "  (2): Normalize()\n",
       ")"
      ]
     },
     "execution_count": 6,
     "metadata": {},
     "output_type": "execute_result"
    }
   ],
   "source": [
    "mistral = SentenceTransformer(\"zeta-alpha-ai/Zeta-Alpha-E5-Mistral\",trust_remote_code=True)\n",
    "mistral.to(torch.float16)"
   ]
  },
  {
   "cell_type": "code",
   "execution_count": 11,
   "id": "9bf218e2",
   "metadata": {},
   "outputs": [
    {
     "data": {
      "text/plain": [
       "<Axes: >"
      ]
     },
     "execution_count": 11,
     "metadata": {},
     "output_type": "execute_result"
    },
    {
     "data": {
      "image/png": "[encoded data removed]",
      "text/plain": [
       "<Figure size 640x480 with 1 Axes>"
      ]
     },
     "metadata": {},
     "output_type": "display_data"
    }
   ],
   "source": [
    "df_filtered['abstract'].map(len)[:5].hist()"
   ]
  },
  {
   "cell_type": "code",
   "execution_count": 19,
   "id": "b2e1356e",
   "metadata": {},
   "outputs": [
    {
     "data": {
      "text/plain": [
       "Index(['id', 'doi', 'title', 'display_name', 'relevance_score',\n",
       "       'publication_year', 'publication_date', 'language', 'type',\n",
       "       'type_crossref',\n",
       "       ...\n",
       "       'locations.source.type', 'locations.source',\n",
       "       'sustainable_development_goals.id',\n",
       "       'sustainable_development_goals.score',\n",
       "       'sustainable_development_goals.display_name', 'grants.funder',\n",
       "       'grants.funder_display_name', 'grants.award_id', 'counts_by_year.year',\n",
       "       'counts_by_year.cited_by_count'],\n",
       "      dtype='object', length=176)"
      ]
     },
     "execution_count": 19,
     "metadata": {},
     "output_type": "execute_result"
    }
   ],
   "source": [
    "df_filtered.keys()"
   ]
  },
  {
   "cell_type": "code",
   "execution_count": 22,
   "id": "b1d0e062",
   "metadata": {},
   "outputs": [],
   "source": [
    "df_filtered_relevance = df_filtered.sort_values(by=['relevance_score'])[::-1]"
   ]
  },
  {
   "cell_type": "code",
   "execution_count": 23,
   "id": "1c2b13c0",
   "metadata": {},
   "outputs": [
    {
     "name": "stderr",
     "output_type": "stream",
     "text": [
      "Batches: 100%|██████████| 10/10 [01:20<00:00,  8.06s/it]\n"
     ]
    }
   ],
   "source": [
    "temp = mistral.encode(df_filtered_relevance['abstract'].values[:10],batch_size=1,show_progress_bar=True)"
   ]
  },
  {
   "cell_type": "code",
   "execution_count": 14,
   "id": "0316784b",
   "metadata": {},
   "outputs": [],
   "source": [
    "topic = 'Instruct: Retrieve abstracts that describe applications of a quantum sensor to the field of navigation.'\n",
    "tempTopic = mistral.encode(topic)"
   ]
  },
  {
   "cell_type": "code",
   "execution_count": 24,
   "id": "eebc564d",
   "metadata": {},
   "outputs": [
    {
     "data": {
      "text/plain": [
       "array([0.575 , 0.614 , 0.566 , 0.6323, 0.5317, 0.606 , 0.603 , 0.5366,\n",
       "       0.566 , 0.527 ], dtype=float16)"
      ]
     },
     "execution_count": 24,
     "metadata": {},
     "output_type": "execute_result"
    }
   ],
   "source": [
    "tempTopic @ temp.T"
   ]
  },
  {
   "cell_type": "code",
   "execution_count": 27,
   "id": "64519d84",
   "metadata": {},
   "outputs": [
    {
     "data": {
      "text/plain": [
       "'Enhancing Gaussian quantum metrology with position-momentum correlations'"
      ]
     },
     "execution_count": 27,
     "metadata": {},
     "output_type": "execute_result"
    }
   ],
   "source": [
    "df_filtered_relevance['title'].values[3]"
   ]
  },
  {
   "cell_type": "code",
   "execution_count": null,
   "id": "ccf25ba7",
   "metadata": {},
   "outputs": [],
   "source": []
  }
 ],
 "metadata": {
  "kernelspec": {
   "display_name": "embeddings",
   "language": "python",
   "name": "python3"
  },
  "language_info": {
   "codemirror_mode": {
    "name": "ipython",
    "version": 3
   },
   "file_extension": ".py",
   "mimetype": "text/x-python",
   "name": "python",
   "nbconvert_exporter": "python",
   "pygments_lexer": "ipython3",
   "version": "3.13.2"
  }
 },
 "nbformat": 4,
 "nbformat_minor": 5
}
